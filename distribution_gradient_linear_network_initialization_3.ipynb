{
 "cells": [
  {
   "cell_type": "code",
   "execution_count": 1,
   "metadata": {},
   "outputs": [],
   "source": [
    "from __future__ import print_function\n",
    "import matplotlib.pyplot as plt\n",
    "#%matplotlib notebook\n",
    "\n",
    "import os\n",
    "\n",
    "import warnings\n",
    "warnings.filterwarnings('ignore')\n",
    "\n",
    "from include import *\n",
    "from PIL import Image\n",
    "import PIL\n",
    "\n",
    "import torch\n",
    "import torch.optim\n",
    "from torch.autograd import Variable\n",
    "\n",
    "import matplotlib.pyplot as plt\n",
    "import numpy as np\n",
    "import scipy\n",
    "from scipy.linalg import circulant\n",
    "\n",
    "GPU = False\n",
    "if GPU == True:\n",
    "    torch.backends.cudnn.enabled = True\n",
    "    torch.backends.cudnn.benchmark = True\n",
    "    dtype = torch.cuda.FloatTensor\n",
    "    os.environ['CUDA_VISIBLE_DEVICES'] = '0'\n",
    "    print(\"num GPUs\",torch.cuda.device_count())\n",
    "else:\n",
    "    dtype = torch.FloatTensor\n"
   ]
  },
  {
   "cell_type": "code",
   "execution_count": 2,
   "metadata": {},
   "outputs": [],
   "source": [
    "def getX(d=5,n=10):\n",
    "    x = np.random.randn(n)/np.sqrt(n)\n",
    "    x = x - np.mean(x)\n",
    "    X = circulant(x)\n",
    "    for i in range(d-1):\n",
    "        Wk = circulant(np.random.randn(n)/np.sqrt(n))\n",
    "        X = np.dot( X , Wk )\n",
    "    return X\n",
    "\n",
    "def getGrad(X,y,w):\n",
    "    return np.dot(X.T, y - np.dot(X,w) )\n",
    "\n",
    "def getNGrad(X,y,w):\n",
    "    Xw = np.dot(X,w)\n",
    "    nor = np.linalg.norm(Xw)\n",
    "    n = len(X)\n",
    "    return np.dot(X.T , np.dot( (np.eye(n) - np.dot(Xw, Xw.T)/nor**2) , y)) / nor"
   ]
  },
  {
   "cell_type": "markdown",
   "metadata": {},
   "source": [
    "## Distribution of gradient norms with and without normalization"
   ]
  },
  {
   "cell_type": "code",
   "execution_count": 3,
   "metadata": {},
   "outputs": [],
   "source": [
    "def simulate(fun,n = 10,d = 6,numit = 1000):\n",
    "    res = []\n",
    "    for i in range(numit):\n",
    "        X = getX(d=d,n=n)\n",
    "        y = np.random.randn(n)\n",
    "        w = np.random.randn(n)\n",
    "        #print( np.linalg.norm(y)/np.linalg.norm( np.dot(X,w) ) )\n",
    "        res += [np.linalg.norm(fun(X,y,w))]\n",
    "    return res"
   ]
  },
  {
   "cell_type": "code",
   "execution_count": 4,
   "metadata": {},
   "outputs": [],
   "source": [
    "def tikz_hist(res,bins=100,filename=\"data.csv\"):\n",
    "    hist = plt.hist(res,normed=True, bins=bins)\n",
    "    plt.show()\n",
    "    x = np.array([ (hist[1][i] + hist[1][i+1])/2 for i in range(bins) ])\n",
    "    y = np.array(hist[0])\n",
    "    np.savetxt(filename, np.vstack([ x , y ]).T , delimiter=\"\\t\")"
   ]
  },
  {
   "cell_type": "code",
   "execution_count": 43,
   "metadata": {},
   "outputs": [
    {
     "data": {
      "image/png": "[encoded data removed]",
      "text/plain": [
       "<matplotlib.figure.Figure at 0x113f597f0>"
      ]
     },
     "metadata": {},
     "output_type": "display_data"
    }
   ],
   "source": [
    "res = simulate(fun=getGrad,n=100,d=6,numit=20000)\n",
    "tikz_hist(res,bins=200,filename=\"hist_nonorm.data\")"
   ]
  },
  {
   "cell_type": "code",
   "execution_count": 44,
   "metadata": {},
   "outputs": [
    {
     "data": {
      "image/png": "[encoded data removed]",
      "text/plain": [
       "<matplotlib.figure.Figure at 0x115247cc0>"
      ]
     },
     "metadata": {},
     "output_type": "display_data"
    }
   ],
   "source": [
    "res = simulate(fun=getNGrad,n=100,d=6,numit=20000)\n",
    "tikz_hist(res,bins=200,filename=\"hist_norm.data\")"
   ]
  },
  {
   "cell_type": "markdown",
   "metadata": {},
   "source": [
    "## Distribution of gradient norms for multi-channel CNN"
   ]
  },
  {
   "cell_type": "code",
   "execution_count": 21,
   "metadata": {},
   "outputs": [],
   "source": [
    "def init_normal(m):\n",
    "    if type(m) == nn.Conv1d:\n",
    "        nn.init.normal_(m.weight,0,np.sqrt(1/64))\n",
    "\n",
    "def grad_eval(net, y, net_input, LR = 0.05):\n",
    "    p = [x for x in net.parameters()]\n",
    "    # optimizer = torch.optim.SGD(p, lr=LR,momentum=0)\n",
    "    mse = torch.nn.MSELoss()\n",
    "\n",
    "    nconvnets = 0\n",
    "    for p in list(filter(lambda p: len(p.data.shape)>2, net.parameters())):\n",
    "        nconvnets += 1\n",
    "\n",
    "    out = net(net_input.type(dtype))\n",
    "\n",
    "    # training loss \n",
    "    loss = mse(out, y)\n",
    "    loss.backward()\n",
    "    mse_wrt_noisy = loss.data.cpu().numpy()\n",
    "\n",
    "    # output gradients\n",
    "    out_grads = np.zeros(nconvnets)\n",
    "    for ind,p in enumerate(list(filter(lambda p: p.grad is not None and len(p.data.shape)>2, net.parameters()))):\n",
    "        # print(p.shape)\n",
    "        out_grads[ind] = p.grad.data.norm(2).item()**2\n",
    "\n",
    "    overall_grads = np.sqrt(sum(out_grads))\n",
    "    return overall_grads \n",
    "\n",
    "def tikz_hist(res,bins=100,filename=\"data.csv\"):\n",
    "    hist = plt.hist(res,normed=True, bins=bins)\n",
    "    plt.show()\n",
    "    x = np.array([ (hist[1][i] + hist[1][i+1])/2 for i in range(bins) ])\n",
    "    y = np.array(hist[0])\n",
    "    np.savetxt(filename, np.vstack([ x , y ]).T , delimiter=\"\\t\")\n",
    "    "
   ]
  },
  {
   "cell_type": "code",
   "execution_count": 10,
   "metadata": {},
   "outputs": [],
   "source": [
    "def pad_circular1d(x, pad):\n",
    "    x = torch.cat([x, x[0:pad]])\n",
    "    x = torch.cat([x[-2 * pad:-pad], x])\n",
    "    return x\n",
    "\n",
    "class Pad1d(torch.nn.Module):\n",
    "    def __init__(self, pad):\n",
    "        \"\"\"\n",
    "        In the constructor we instantiate two nn.Linear modules and assign them as\n",
    "        member variables.\n",
    "        \"\"\"\n",
    "        super(Pad1d, self).__init__()\n",
    "        self.pad = pad\n",
    "        \n",
    "    def forward(self, x):\n",
    "        \"\"\"\n",
    "        In the forward function we accept a Tensor of input data and we must return\n",
    "        a Tensor of output data. We can use Modules defined in the constructor as\n",
    "        well as arbitrary operators on Tensors.\n",
    "        \"\"\"\n",
    "        shape = [1,x.shape[1],x.shape[2]+2*self.pad]\n",
    "        xx = Variable(torch.zeros(shape)).type(dtype)\n",
    "        for i in range(x.shape[1]):\n",
    "            xx[0,i] = pad_circular1d(x[0,i],self.pad)\n",
    "        return xx # pad_circular1d(x, self.pad)\n",
    "\n",
    "\n",
    "\n",
    "class ChannelNormalization(torch.nn.Module):\n",
    "    '''\n",
    "    Different ways to normalize the channels\n",
    "    '''\n",
    "    def __init__(self, D_in,mode=\"BN\"):\n",
    "        self.mode = mode\n",
    "        super(ChannelNormalization, self).__init__()\n",
    "        self.gamma = nn.Parameter(torch.ones(D_in))\n",
    "        self.beta = nn.Parameter(torch.zeros(D_in))\n",
    "        \n",
    "    def forward(self, x):\n",
    "        xx = Variable(torch.zeros(x.shape)).type(dtype)\n",
    "        for i,(g,b) in enumerate(zip(self.gamma,self.beta)):\n",
    "            #print(i, x[0][i].shape)\n",
    "            if self.mode == \"BN\":\n",
    "                #xx[0][i] = (x[0][i] - torch.mean(x[0][i]))/torch.sqrt( torch.var(x[0][i]) + 0.00001 ) * g  + b\n",
    "                xx[0][i] = (x[0][i] - torch.mean(x[0][i]))/torch.sqrt( torch.var(x[0][i]) + 0.00001 ) + b\n",
    "            elif self.mode == \"mult\":\n",
    "                xx[:,i] = x[:,i]*g + b\n",
    "            elif self.mode == \"non-learned\":\n",
    "                xx[0][i] = (x[0][i] - torch.mean(x[0][i]))/torch.sqrt( torch.var(x[0][i]) + 0.00001 )\n",
    "            elif self.mode == \"center\":\n",
    "                xx[:,i] = (x[:,i] - torch.mean(x[:,i]))\n",
    "            elif self.mode == \"normalize\":\n",
    "                xx[0][i] = (x[0][i])/torch.sqrt( torch.var(x[0][i]) )\n",
    "            elif self.mode == \"only+bias\":\n",
    "                xx[:,i] = x[:,i] + b\n",
    "            elif self.mode == \"onlycenter+bias\":\n",
    "                xx[:,i] = (x[:,i] - torch.mean(x[:,i]))*g + b\n",
    "            elif self.mode == \"almostcenter\":\n",
    "                xx[:,i] = ( (x[:,i] - torch.mean(x[:,i])) + torch.mean(x[:,i]) / torch.from_numpy( np.sqrt( np.array([np.prod(x[0][i].shape)]) ) ).float().type(dtype)) /torch.sqrt( torch.var(x[0][i]) + 0.00001 ) + b\n",
    "            elif self.mode == \"center+scale\":\n",
    "                xx[:,i] =  (x[:,i] - torch.mean(x[:,i])) / (torch.max( torch.abs(x[:,i] - torch.mean(x[:,i]) ) ) + 0.00001)\n",
    "            elif self.mode == \"center+mean_scale\":\n",
    "                xx[:,i] =  (x[:,i] - torch.mean(x[:,i])) / torch.mean(torch.abs( x[:,i] - torch.mean(x[:,i]) ) )\n",
    "            elif self.mode == \"scale\":\n",
    "                z =  x[0][i]\n",
    "                xx[0][i] = z / ( torch.norm(z) + 0.00001 )*g + b\n",
    "            elif self.mode == \"linear\":\n",
    "                xx = x\n",
    "            else:\n",
    "                raise ValueError('not an option for channel normalization.')\n",
    "        return xx\n",
    "    \n",
    "    \n",
    "def conv(in_f, out_f, kernel_size, stride=1,bias=False,pad=True):\n",
    "    '''\n",
    "    Circular convolution\n",
    "    '''\n",
    "    to_pad = int((kernel_size - 1) / 2)\n",
    "    if pad:\n",
    "        padder = Pad1d(to_pad)\n",
    "    else:\n",
    "        padder = None\n",
    "\n",
    "    #convolver = nn.utils.weight_norm(nn.Conv1d(in_f, out_f, kernel_size, stride, padding=0, bias=bias), name='weight')\n",
    "    convolver = nn.Conv1d(in_f, out_f, kernel_size, stride, padding=0, bias=bias)\n",
    "    \n",
    "    layers = filter(lambda x: x is not None, [padder, convolver])\n",
    "    return nn.Sequential(*layers).type(dtype)\n",
    "\n",
    "\n",
    "\n",
    "class ResidualBlock(nn.Module):\n",
    "    def __init__(self, in_f, out_f, kernel_size, stride=1,bias=False,pad=True,mode=\"BN\"):\n",
    "        super(ResidualBlock, self).__init__()\n",
    "        self.conv = conv(in_f, out_f, kernel_size, stride=stride,bias=bias,pad=pad)\n",
    "        self.norm = ChannelNormalization(in_f,mode=mode)\n",
    "    def forward(self, x):\n",
    "        residual = x\n",
    "        out = self.conv(x)\n",
    "        out = self.norm(out)\n",
    "        out += residual\n",
    "        return out\n",
    "\n",
    "def decnet(\n",
    "        num_output_channels=1, \n",
    "        num_channels_up=[1]*5, \n",
    "        filter_size_up=2,\n",
    "        act_fun=nn.ReLU(), # nn.LeakyReLU(0.2, inplace=True) \n",
    "        mode = \"BN\",\n",
    "        modeout = \"none\",\n",
    "        res = True,\n",
    "        ):\n",
    "    \n",
    "    num_channels_up = num_channels_up + [num_channels_up[-1]]\n",
    "    n_scales = len(num_channels_up) \n",
    "    \n",
    "    model = nn.Sequential()\n",
    "\n",
    "    for i in range(len(num_channels_up)-1):\n",
    "        if res:\n",
    "            model.add(ResidualBlock( num_channels_up[i], num_channels_up[i+1],  filter_size_up, 1,mode))\n",
    "        else:\n",
    "\n",
    "            model.add(conv( num_channels_up[i], num_channels_up[i+1],  filter_size_up, 1))\n",
    "            if act_fun != None:\n",
    "                model.add(act_fun)\n",
    "            model.add(ChannelNormalization(num_channels_up[i],mode=mode))\n",
    "            #model.add( nn.BatchNorm1d( num_channels_up[i] ,affine=True) )\n",
    "\n",
    "            \n",
    "    if modeout != \"none\":\n",
    "        model.add(ChannelNormalization(num_channels_up[i+1],mode=modeout))\n",
    "        #model.add( nn.BatchNorm1d( num_channels_up[i+1] ,affine=True) )\n",
    "    model.add(conv(num_channels_up[-1], num_output_channels, 1, bias=True,pad=False))\n",
    "    # model.add(nn.Sigmoid())\n",
    "    \n",
    "    return model\n",
    "\n",
    "\n",
    "\n",
    "def fit(net,\n",
    "        y,\n",
    "        num_channels,\n",
    "        net_input = None,\n",
    "        num_iter = 5000,\n",
    "        LR = 0.01,\n",
    "       ):\n",
    "\n",
    "    if net_input is not None:\n",
    "        print(\"input provided\")\n",
    "    else:\n",
    "        length = int(y.data.shape[2])\n",
    "        shape = [1,num_channels[0], length ]\n",
    "        print(\"input shape: \", shape)\n",
    "        net_input = Variable(torch.ones(shape)).type(dtype)\n",
    "        net_input.data.uniform_()\n",
    "        \n",
    "    \n",
    "    net_input = net_input.type(dtype)\n",
    "    net_input_saved = net_input.data.clone()\n",
    "    noise = net_input.data.clone()\n",
    "    p = [x for x in net.parameters() ]\n",
    "\n",
    "    mse_wrt_noisy = np.zeros(num_iter)\n",
    "     \n",
    "    print(\"optimize with SGD\", LR)\n",
    "    optimizer = torch.optim.SGD(p, lr=LR,momentum=0)\n",
    "    \n",
    "    mse = torch.nn.MSELoss() #.type(dtype) \n",
    "   \n",
    "    nconvnets = 0\n",
    "    for p in list(filter(lambda p: len(p.data.shape)>2, net.parameters())):\n",
    "        nconvnets += 1\n",
    "    \n",
    "    out_grads = np.zeros((nconvnets,num_iter))\n",
    "    out_filters = np.zeros((nconvnets+1,num_iter))\n",
    "    init_para = np.zeros((9,nconvnets+1))\n",
    "    for i in range(num_iter):\n",
    "        def closure():\n",
    "            optimizer.zero_grad()\n",
    "            out = net(net_input.type(dtype))\n",
    "\n",
    "            # training loss \n",
    "            loss = mse(out, y)\n",
    "            loss.backward()\n",
    "            mse_wrt_noisy[i] = loss.data.cpu().numpy()\n",
    "            \n",
    "            # output gradients\n",
    "            for ind,p in enumerate(list(filter(lambda p: p.grad is not None and len(p.data.shape)>2, net.parameters()))):\n",
    "                out_grads[ind,i] = p.grad.data.norm(2).item()\n",
    "            \n",
    "            # output norms of filters\n",
    "            ind = 0\n",
    "            for m in net.modules():\n",
    "                if isinstance(m, nn.Conv1d):\n",
    "                    out_filters[ind,i] = m.weight.data.norm(2).item()\n",
    "                    if i == 0:\n",
    "                        init_para[:,ind] = m.weight.data.numpy()[0,0]\n",
    "                    ind += 1\n",
    "                    #print(m.weight.data.cpu().numpy()) \n",
    "        \n",
    "                   \n",
    "            if i % 10 == 0:\n",
    "                print ('Iteration %05d    Train loss %f' % (i, loss.data), '\\r', end='')\n",
    "            \n",
    "            return loss   \n",
    "        \n",
    "        loss = optimizer.step(closure)\n",
    "                  \n",
    "    return mse_wrt_noisy, net_input, net, out_grads, out_filters"
   ]
  },
  {
   "cell_type": "markdown",
   "metadata": {},
   "source": [
    "### Generate Signals"
   ]
  },
  {
   "cell_type": "code",
   "execution_count": 12,
   "metadata": {},
   "outputs": [
    {
     "name": "stdout",
     "output_type": "stream",
     "text": [
      "torch.Size([1, 1, 256])\n"
     ]
    }
   ],
   "source": [
    "n = 256\n",
    "\n",
    "# noise\n",
    "shape = [1,1,n]\n",
    "y = Variable(torch.zeros(shape),requires_grad=False).type(dtype)\n",
    "y.data.uniform_()\n",
    "y_np = y.data.cpu().numpy()[0,0]\n",
    "\n",
    "# step function\n",
    "ystep_np = np.zeros([1,n])\n",
    "ystep_np[0,:int(n/2)] = np.ones(int(n/2))\n",
    "ystep = np_to_var(ystep_np).type(dtype)\n",
    "ystep_np = ystep_np[0]\n",
    "print(ystep.shape)\n",
    "\n",
    "# shape = [1,4,n]\n",
    "# print(\"input shape: \", shape)\n",
    "# net_input = Variable(torch.ones(shape)).type(dtype)\n",
    "# net_input.data.uniform_()"
   ]
  },
  {
   "cell_type": "markdown",
   "metadata": {},
   "source": [
    "### num_channels =  4, network depth = 6, with channel normalization"
   ]
  },
  {
   "cell_type": "code",
   "execution_count": 26,
   "metadata": {},
   "outputs": [],
   "source": [
    "num_channels = [4]*6\n",
    "\n",
    "num_iter = 2000\n",
    "para_grad_linear = np.zeros(num_iter)\n",
    "\n",
    "for i in range(num_iter):\n",
    "    shape = [1,4,n]\n",
    "    net_input = Variable(torch.ones(shape)).type(dtype)\n",
    "    net_input.data.uniform_()\n",
    "    net_input = net_input.type(dtype)\n",
    "\n",
    "    net = decnet(1,num_channels,9,act_fun=nn.ReLU(),mode=\"non-learned\",res=False).type(dtype)\n",
    "    net.apply(init_normal)\n",
    "\n",
    "    para_grad_linear[i] = grad_eval(net, y=ystep, net_input=net_input)"
   ]
  },
  {
   "cell_type": "code",
   "execution_count": 27,
   "metadata": {},
   "outputs": [
    {
     "data": {
      "image/png": "[encoded data removed]",
      "text/plain": [
       "<Figure size 432x288 with 1 Axes>"
      ]
     },
     "metadata": {
      "needs_background": "light"
     },
     "output_type": "display_data"
    }
   ],
   "source": [
    "plt.hist(para_grad_linear, normed=True, bins=100)\n",
    "plt.title('Distribution of Gradient Norm with Channel Normalization')\n",
    "plt.show()"
   ]
  },
  {
   "cell_type": "markdown",
   "metadata": {},
   "source": [
    "### num_channels =  4, network depth = 6, without normalization"
   ]
  },
  {
   "cell_type": "code",
   "execution_count": 28,
   "metadata": {},
   "outputs": [],
   "source": [
    "num_channels = [4]*6\n",
    "\n",
    "num_iter = 2000\n",
    "para_grad_linear = np.zeros(num_iter)\n",
    "\n",
    "for i in range(num_iter):\n",
    "    shape = [1,4,n]\n",
    "    net_input = Variable(torch.ones(shape)).type(dtype)\n",
    "    net_input.data.uniform_()\n",
    "    net_input = net_input.type(dtype)\n",
    "\n",
    "    net = decnet(1,num_channels,9,act_fun=nn.ReLU(),mode=\"linear\",res=False).type(dtype)\n",
    "    net.apply(init_normal)\n",
    "\n",
    "    para_grad_linear[i] = grad_eval(net, y=ystep, net_input=net_input)"
   ]
  },
  {
   "cell_type": "code",
   "execution_count": 29,
   "metadata": {},
   "outputs": [
    {
     "data": {
      "image/png": "[encoded data removed]",
      "text/plain": [
       "<Figure size 432x288 with 1 Axes>"
      ]
     },
     "metadata": {
      "needs_background": "light"
     },
     "output_type": "display_data"
    }
   ],
   "source": [
    "plt.hist(para_grad_linear, normed=True, bins=100)\n",
    "plt.title('Distribution of Gradient Norm without Normalization')\n",
    "plt.show()"
   ]
  }
 ],
 "metadata": {
  "kernelspec": {
   "display_name": "Python 3",
   "language": "python",
   "name": "python3"
  },
  "language_info": {
   "codemirror_mode": {
    "name": "ipython",
    "version": 3
   },
   "file_extension": ".py",
   "mimetype": "text/x-python",
   "name": "python",
   "nbconvert_exporter": "python",
   "pygments_lexer": "ipython3",
   "version": "3.7.1"
  }
 },
 "nbformat": 4,
 "nbformat_minor": 2
}
