{
 "cells": [
  {
   "cell_type": "markdown",
   "metadata": {},
   "source": [
    "## Distribution of gradient norms with and without normalization \n",
    "\n",
    "This notebook plots the distribution of the norms of the gradients of a multi channel convolutional neural network with and without channel normalization. "
   ]
  },
  {
   "cell_type": "code",
   "execution_count": 5,
   "metadata": {},
   "outputs": [],
   "source": [
    "from __future__ import print_function\n",
    "import matplotlib.pyplot as plt\n",
    "#%matplotlib notebook\n",
    "\n",
    "import os\n",
    "\n",
    "import warnings\n",
    "warnings.filterwarnings('ignore')\n",
    "\n",
    "from include.multi_channel import *\n",
    "from include import *\n",
    "from PIL import Image\n",
    "import PIL\n",
    "\n",
    "import torch\n",
    "import torch.optim\n",
    "from torch.autograd import Variable\n",
    "\n",
    "import matplotlib.pyplot as plt\n",
    "import numpy as np\n",
    "import scipy\n",
    "from scipy.linalg import circulant\n",
    "\n",
    "GPU = False\n",
    "if GPU == True:\n",
    "    torch.backends.cudnn.enabled = True\n",
    "    torch.backends.cudnn.benchmark = True\n",
    "    dtype = torch.cuda.FloatTensor\n",
    "    os.environ['CUDA_VISIBLE_DEVICES'] = '0'\n",
    "    print(\"num GPUs\",torch.cuda.device_count())\n",
    "else:\n",
    "    dtype = torch.FloatTensor\n"
   ]
  },
  {
   "cell_type": "code",
   "execution_count": 2,
   "metadata": {},
   "outputs": [],
   "source": [
    "def tikz_hist(res,bins=100,filename=\"data.csv\"):\n",
    "    hist = plt.hist(res,normed=True, bins=bins)\n",
    "    plt.show()\n",
    "    x = np.array([ (hist[1][i] + hist[1][i+1])/2 for i in range(bins) ])\n",
    "    y = np.array(hist[0])\n",
    "    np.savetxt(filename, np.vstack([ x , y ]).T , delimiter=\"\\t\")"
   ]
  },
  {
   "cell_type": "code",
   "execution_count": 3,
   "metadata": {},
   "outputs": [],
   "source": [
    "def init_normal(m, n = 256):\n",
    "    if type(m) == nn.Conv1d:\n",
    "        nn.init.normal_(m.weight,0,np.sqrt(1/64))\n",
    "\n",
    "def grad_eval(net, y, net_input, LR = 0.05):\n",
    "    p = [x for x in net.parameters()]\n",
    "    # optimizer = torch.optim.SGD(p, lr=LR,momentum=0)\n",
    "    mse = torch.nn.MSELoss()\n",
    "\n",
    "    nconvnets = 0\n",
    "    for p in list(filter(lambda p: len(p.data.shape)>2, net.parameters())):\n",
    "        nconvnets += 1\n",
    "\n",
    "    out = net(net_input.type(dtype))\n",
    "\n",
    "    # training loss \n",
    "    loss = mse(out, y)\n",
    "    loss.backward()\n",
    "    mse_wrt_noisy = loss.data.cpu().numpy()\n",
    "\n",
    "    # output gradients\n",
    "    out_grads = np.zeros(nconvnets)\n",
    "    for ind,p in enumerate(list(filter(lambda p: p.grad is not None and len(p.data.shape)>2, net.parameters()))):\n",
    "        # print(p.shape)\n",
    "        out_grads[ind] = p.grad.data.norm(2).item()**2\n",
    "\n",
    "    overall_grads = np.sqrt(sum(out_grads))\n",
    "    return overall_grads  "
   ]
  },
  {
   "cell_type": "markdown",
   "metadata": {},
   "source": [
    "### Generate Signals"
   ]
  },
  {
   "cell_type": "code",
   "execution_count": 6,
   "metadata": {},
   "outputs": [
    {
     "name": "stdout",
     "output_type": "stream",
     "text": [
      "torch.Size([1, 1, 256])\n"
     ]
    }
   ],
   "source": [
    "n = 256\n",
    "\n",
    "# noise\n",
    "shape = [1,1,n]\n",
    "y = Variable(torch.zeros(shape),requires_grad=False).type(dtype)\n",
    "y.data.uniform_()\n",
    "y_np = y.data.cpu().numpy()[0,0]\n",
    "\n",
    "# step function\n",
    "ystep_np = np.zeros([1,n])\n",
    "ystep_np[0,:int(n/2)] = np.ones(int(n/2))\n",
    "ystep = np_to_var(ystep_np).type(dtype)\n",
    "ystep_np = ystep_np[0]\n",
    "print(ystep.shape)\n",
    "\n",
    "# shape = [1,4,n]\n",
    "# print(\"input shape: \", shape)\n",
    "# net_input = Variable(torch.ones(shape)).type(dtype)\n",
    "# net_input.data.uniform_()"
   ]
  },
  {
   "cell_type": "markdown",
   "metadata": {},
   "source": [
    "### num_channels =  4, network depth = 6, with channel normalization"
   ]
  },
  {
   "cell_type": "code",
   "execution_count": 8,
   "metadata": {},
   "outputs": [],
   "source": [
    "num_channels = [4]*6\n",
    "\n",
    "num_iter = 2000\n",
    "para_grad_linear = np.zeros(num_iter)\n",
    "\n",
    "for i in range(num_iter):\n",
    "    shape = [1,4,n]\n",
    "    net_input = Variable(torch.ones(shape)).type(dtype)\n",
    "    net_input.data.uniform_()\n",
    "    net_input = net_input.type(dtype)\n",
    "\n",
    "    net = decnet(1,num_channels,9,act_fun=nn.ReLU(),mode=\"non-learned\",res=False).type(dtype)\n",
    "    net.apply(init_normal)\n",
    "\n",
    "    para_grad_linear[i] = grad_eval(net, y=ystep, net_input=net_input)"
   ]
  },
  {
   "cell_type": "code",
   "execution_count": 9,
   "metadata": {},
   "outputs": [
    {
     "data": {
      "image/png": "[encoded data removed]",
      "text/plain": [
       "<Figure size 432x288 with 1 Axes>"
      ]
     },
     "metadata": {
      "needs_background": "light"
     },
     "output_type": "display_data"
    }
   ],
   "source": [
    "plt.hist(para_grad_linear, normed=True, bins=100)\n",
    "plt.title('Distribution of Gradient Norm with Channel Normalization')\n",
    "plt.show()"
   ]
  },
  {
   "cell_type": "markdown",
   "metadata": {},
   "source": [
    "### num_channels =  4, network depth = 6, without normalization"
   ]
  },
  {
   "cell_type": "code",
   "execution_count": 10,
   "metadata": {},
   "outputs": [],
   "source": [
    "num_channels = [4]*6\n",
    "\n",
    "num_iter = 2000\n",
    "para_grad_linear = np.zeros(num_iter)\n",
    "\n",
    "for i in range(num_iter):\n",
    "    shape = [1,4,n]\n",
    "    net_input = Variable(torch.ones(shape)).type(dtype)\n",
    "    net_input.data.uniform_()\n",
    "    net_input = net_input.type(dtype)\n",
    "\n",
    "    net = decnet(1,num_channels,9,act_fun=nn.ReLU(),mode=\"linear\",res=False).type(dtype)\n",
    "    net.apply(init_normal)\n",
    "\n",
    "    para_grad_linear[i] = grad_eval(net, y=ystep, net_input=net_input)"
   ]
  },
  {
   "cell_type": "code",
   "execution_count": 11,
   "metadata": {},
   "outputs": [
    {
     "data": {
      "image/png": "[encoded data removed]",
      "text/plain": [
       "<Figure size 432x288 with 1 Axes>"
      ]
     },
     "metadata": {
      "needs_background": "light"
     },
     "output_type": "display_data"
    }
   ],
   "source": [
    "plt.hist(para_grad_linear, normed=True, bins=100)\n",
    "plt.title('Distribution of Gradient Norm without Normalization')\n",
    "plt.show()"
   ]
  }
 ],
 "metadata": {
  "kernelspec": {
   "display_name": "Python 3",
   "language": "python",
   "name": "python3"
  },
  "language_info": {
   "codemirror_mode": {
    "name": "ipython",
    "version": 3
   },
   "file_extension": ".py",
   "mimetype": "text/x-python",
   "name": "python",
   "nbconvert_exporter": "python",
   "pygments_lexer": "ipython3",
   "version": "3.7.1"
  }
 },
 "nbformat": 4,
 "nbformat_minor": 2
}
